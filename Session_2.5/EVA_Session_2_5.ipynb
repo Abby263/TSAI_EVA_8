{
  "cells": [
    {
      "cell_type": "markdown",
      "metadata": {
        "id": "view-in-github",
        "colab_type": "text"
      },
      "source": [
        "<a href=\"https://colab.research.google.com/github/Abby263/TSAI_EVA_8/blob/main/Session_2.5/EVA_Session_2_5.ipynb\" target=\"_parent\"><img src=\"https://colab.research.google.com/assets/colab-badge.svg\" alt=\"Open In Colab\"/></a>"
      ]
    },
    {
      "cell_type": "code",
      "execution_count": null,
      "metadata": {
        "id": "JZUA6dENgx-m"
      },
      "outputs": [],
      "source": [
        "import torch\n",
        "import torch.nn as nn\n",
        "import torch.optim as optim\n",
        "import torch.nn.functional as F\n",
        "\n",
        "import matplotlib.pyplot as plt\n",
        "import numpy as np\n",
        "\n",
        "import torch\n",
        "import torchvision\n",
        "from torchvision.transforms import transforms\n",
        "\n",
        "from torch.utils.data import Dataset, DataLoader"
      ]
    },
    {
      "cell_type": "code",
      "execution_count": null,
      "metadata": {
        "id": "4PAwcK54g2IN"
      },
      "outputs": [],
      "source": [
        "transform = transforms.Compose([transforms.ToTensor(),transforms.Normalize((0.1307,), (0.3081,))])\n",
        "\n",
        "# torchvision.datasets.MNIST outputs a set of PIL images\n",
        "# Load and transform data\n",
        "MNIST_train = torchvision.datasets.MNIST('/tmp', train=True, download=True, transform=transform)\n",
        "MNIST_trainset, MNIST_valset = torch.utils.data.random_split(MNIST_train, [55000, 5000])\n",
        "MNIST_testset = torchvision.datasets.MNIST('/tmp', train=False, download=True, transform=transform)\n",
        "\n",
        "class RMNISTDataset(Dataset):\n",
        "  def __init__(self, mnist_data):\n",
        "    self.mnist_dataset = mnist_data\n",
        "\n",
        "  def __len__(self):\n",
        "    return len(self.mnist_dataset)\n",
        "\n",
        "  def __getitem__(self, idx):\n",
        "    image, label = self.mnist_dataset[idx]\n",
        "    random_number = torch.randint(0, 10, size=(1,)).long()\n",
        "    rand_num_onehot = F.one_hot(random_number, num_classes = 10).view(random_number.size(0), -1)\n",
        "    return image, label, random_number, rand_num_onehot"
      ]
    },
    {
      "cell_type": "code",
      "execution_count": null,
      "metadata": {
        "colab": {
          "base_uri": "https://localhost:8080/",
          "height": 303
        },
        "id": "T95MCAqZxGRZ",
        "outputId": "236b7dc3-adaa-4d52-e374-0d86f54dd9aa"
      },
      "outputs": [
        {
          "output_type": "stream",
          "name": "stderr",
          "text": [
            "WARNING:matplotlib.image:Clipping input data to the valid range for imshow with RGB data ([0..1] for floats or [0..255] for integers).\n"
          ]
        },
        {
          "output_type": "stream",
          "name": "stdout",
          "text": [
            "The number of images in train dataset - 55000\n",
            "The number of images in val dataset - 5000\n",
            "The number of images in test dataset - 10000\n",
            "Feature batch shape: torch.Size([8, 1, 28, 28])\n",
            "Labels batch shape: torch.Size([8])\n",
            "labels: tensor([2, 3, 7, 3, 2, 2, 3, 4])\n"
          ]
        },
        {
          "output_type": "display_data",
          "data": {
            "text/plain": [
              "<Figure size 1080x1080 with 1 Axes>"
            ],
            "image/png": "[encoded data removed]"
          },
          "metadata": {
            "needs_background": "light"
          }
        }
      ],
      "source": [
        "# Create an instance of the MNISTDataset class\n",
        "train_dataset = RMNISTDataset(MNIST_trainset)\n",
        "val_dataset = RMNISTDataset(MNIST_valset)\n",
        "test_dataset = RMNISTDataset(MNIST_testset)\n",
        "\n",
        "print(f'The number of images in train dataset - {len(train_dataset)}')\n",
        "print(f'The number of images in val dataset - {len(val_dataset)}')\n",
        "print(f'The number of images in test dataset - {len(test_dataset)}')\n",
        "\n",
        "batch_size = 8\n",
        "train_loader = DataLoader(train_dataset, batch_size=batch_size, shuffle=True)\n",
        "val_loader = DataLoader(val_dataset, batch_size=batch_size)\n",
        "test_loader = DataLoader(test_dataset, batch_size=batch_size)\n",
        "\n",
        "batch = next(iter(train_loader))\n",
        "images, labels, rand_num, rand_num_onehot = batch \n",
        "\n",
        "print(f\"Feature batch shape: {images.size()}\")\n",
        "print(f\"Labels batch shape: {labels.size()}\")\n",
        "\n",
        "grid = torchvision.utils.make_grid(images, nrow=10)\n",
        "plt.figure(figsize=(15,15))\n",
        "plt.imshow(np.transpose(grid, (1,2,0)))\n",
        "\n",
        "print('labels:', labels)"
      ]
    },
    {
      "cell_type": "code",
      "execution_count": null,
      "metadata": {
        "colab": {
          "base_uri": "https://localhost:8080/"
        },
        "id": "ZVlg_K-CgOjE",
        "outputId": "fa89e613-0a7a-4cdb-ccc4-b72bd5834604"
      },
      "outputs": [
        {
          "output_type": "execute_result",
          "data": {
            "text/plain": [
              "Network(\n",
              "  (conv1): Conv2d(1, 32, kernel_size=(3, 3), stride=(1, 1))\n",
              "  (conv2): Conv2d(32, 64, kernel_size=(3, 3), stride=(1, 1))\n",
              "  (conv3): Conv2d(64, 128, kernel_size=(3, 3), stride=(1, 1))\n",
              "  (conv4): Conv2d(128, 256, kernel_size=(3, 3), stride=(1, 1))\n",
              "  (conv5): Conv2d(256, 512, kernel_size=(3, 3), stride=(1, 1))\n",
              "  (conv6): Conv2d(512, 1024, kernel_size=(3, 3), stride=(1, 1))\n",
              "  (fc1): Linear(in_features=50176, out_features=120, bias=True)\n",
              "  (fc2): Linear(in_features=120, out_features=60, bias=True)\n",
              "  (fc3): Linear(in_features=10, out_features=120, bias=True)\n",
              "  (fc4): Linear(in_features=120, out_features=60, bias=True)\n",
              "  (out1): Linear(in_features=60, out_features=10, bias=True)\n",
              "  (out2): Linear(in_features=60, out_features=19, bias=True)\n",
              "  (dropout): Dropout(p=0.2, inplace=False)\n",
              ")"
            ]
          },
          "metadata": {},
          "execution_count": 4
        }
      ],
      "source": [
        "def get_num_correct(preds, labels):\n",
        "  return preds.argmax(dim=1).eq(labels).sum().item()\n",
        "\n",
        "class Network(nn.Module):\n",
        "  def __init__(self):\n",
        "    super().__init__()\n",
        "    self.conv1 = nn.Conv2d(in_channels=1, out_channels=32, kernel_size=3) \n",
        "    self.conv2 = nn.Conv2d(in_channels=32, out_channels=64, kernel_size=3)\n",
        "    self.conv3 = nn.Conv2d(in_channels=64, out_channels=128, kernel_size=3)\n",
        "    self.conv4 = nn.Conv2d(in_channels=128, out_channels=256, kernel_size=3)\n",
        "    self.conv5 = nn.Conv2d(in_channels=256, out_channels=512, kernel_size=3)\n",
        "    self.conv6 = nn.Conv2d(in_channels=512, out_channels=1024, kernel_size=3)\n",
        "    self.fc1 = nn.Linear(in_features=1024 * 7 * 7, out_features=120)\n",
        "    self.fc2 = nn.Linear(in_features=120, out_features=60)\n",
        "    self.fc3 = nn.Linear(in_features=10, out_features=120)\n",
        "    self.fc4 = nn.Linear(in_features=120, out_features=60)\n",
        "    self.out1 = nn.Linear(in_features=60, out_features=10)\n",
        "    self.out2 = nn.Linear(in_features=60, out_features=19)\n",
        "    self.dropout = nn.Dropout(p=0.2)\n",
        "\n",
        "  def forward(self, t, r):\n",
        "    # input layer\n",
        "    x = t\n",
        "    # conv1 layer\n",
        "    x = F.relu(self.conv1(x)) # (28, 28, 1) --> (26, 26, 32) RF : 3x3\n",
        "    # conv2 layer\n",
        "    x = F.relu(self.conv2(x)) # (26, 26, 32) --> (24, 24, 64) RF : 5x5\n",
        "    # conv3 layer\n",
        "    x = F.relu(self.conv3(x)) # (24, 24, 64) --> (22, 22, 128) RF : 7x7\n",
        "    # conv4 layer\n",
        "    x = F.relu(self.conv4(x)) # (22, 22, 128) --> (20, 20, 256) RF : 9x9\n",
        "    # conv5 layer\n",
        "    x = F.relu(self.conv5(x)) # (20, 20, 256) --> (18, 18, 512) RF : 11x11\n",
        "    x = F.max_pool2d(x, kernel_size=2, stride=2) # (18, 18, 512)  --> (9, 9, 512) RF : 22X22\n",
        "    # conv6 layer\n",
        "    x = F.relu(self.conv6(x)) # (9, 9, 512) --> (7, 7, 1024) RF : 24X24\n",
        "    # reshape\n",
        "    x = x.reshape(-1, 1024 * 7 * 7)\n",
        "    # fc1 layer\n",
        "    x = self.fc1(x)\n",
        "    # fc2 layer\n",
        "    x = self.fc2(x)\n",
        "    # output layer 1\n",
        "    x = self.out1(x)\n",
        "    # fc3 layer\n",
        "    sum_output = self.fc3(r.to(torch.float32))\n",
        "    # fc4 layer\n",
        "    sum_output = self.fc4(sum_output)\n",
        "    # output layer 2\n",
        "    sum_predict = self.out2(sum_output)\n",
        "    return F.log_softmax(x, dim=1), F.log_softmax(sum_predict, dim=1)\n",
        "\n",
        "network = Network()\n",
        "\n",
        "device = 'cuda' if torch.cuda.is_available() else 'cpu'\n",
        "network.eval()"
      ]
    },
    {
      "cell_type": "code",
      "execution_count": null,
      "metadata": {
        "colab": {
          "base_uri": "https://localhost:8080/"
        },
        "id": "k9mq9tjmq9mB",
        "outputId": "a8f54002-0216-4cd4-8925-2ea38b5e98c0"
      },
      "outputs": [
        {
          "output_type": "stream",
          "name": "stdout",
          "text": [
            "The model has 12,326,465 trainable parameters\n"
          ]
        }
      ],
      "source": [
        "def count_parameters(model):\n",
        "    return sum(p.numel() for p in model.parameters() if p.requires_grad)\n",
        "\n",
        "print(f'The model has {count_parameters(network):,} trainable parameters')\n",
        "     "
      ]
    },
    {
      "cell_type": "code",
      "execution_count": null,
      "metadata": {
        "id": "9gokxixUgtS6"
      },
      "outputs": [],
      "source": [
        "def train(network, train_loader, optimizer, num_epochs, device):\n",
        "\n",
        "  network = network.train()\n",
        "  \n",
        "  total_loss_mnist = 0\n",
        "  total_loss_sum = 0\n",
        "\n",
        "  for batch in train_loader: # Get Batch\n",
        "      images, labels, rand_num, rand_num_onehot = batch \n",
        "      images, labels, rand_num, rand_num_onehot = images.to(device), labels.to(device), rand_num.to(device), rand_num_onehot.to(device)\n",
        "\n",
        "      preds, sum_preds = network(images, rand_num_onehot) # Pass Batch\n",
        "      preds, sum_preds = preds.to(device), sum_preds.to(device) \n",
        "\n",
        "      sum_preds = sum_preds.view(sum_preds.size(0), -1)\n",
        "      sum_labels = (labels.squeeze() + rand_num.squeeze())\n",
        "\n",
        "      loss_mnist = F.nll_loss(preds, labels) # Calculate Loss\n",
        "      loss_sum = F.nll_loss(sum_preds, sum_labels) # Calculate Loss\n",
        "\n",
        "      loss = (loss_mnist + loss_sum)/2\n",
        "\n",
        "      optimizer.zero_grad()\n",
        "      loss.backward() # Calculate Gradients\n",
        "      optimizer.step() # Update Weights\n",
        "\n",
        "      total_loss_mnist += loss_mnist.item()\n",
        "\n",
        "      total_loss_sum += loss_sum.item()\n",
        "\n",
        "  print(f'epoch: {epoch} , loss mnist : {total_loss_mnist}, loss sum : {total_loss_sum}')\n",
        "\n",
        "  return loss\n",
        "\n",
        "\n",
        "def test(network, test_loader, device, test_type='Val'):\n",
        "\n",
        "  network = network.eval()\n",
        "\n",
        "  total_correct_mnist = 0\n",
        "  total_correct_sum = 0\n",
        "  total_loss_mnist = 0\n",
        "  total_loss_sum = 0\n",
        "\n",
        "  # turn off gradients during the testing\n",
        "  with torch.no_grad():\n",
        "\n",
        "    for batch in test_loader: # Get Batch\n",
        "        images, labels, rand_num, rand_num_onehot = batch \n",
        "        images, labels, rand_num, rand_num_onehot = images.to(device), labels.to(device), rand_num.to(device), rand_num_onehot.to(device)\n",
        "\n",
        "        preds, sum_preds = network(images, rand_num_onehot) # Pass Batch\n",
        "        preds, sum_preds = preds.to(device), sum_preds.to(device) \n",
        "\n",
        "        sum_preds = sum_preds.view(sum_preds.size(0), -1)\n",
        "        sum_labels = (labels.squeeze() + rand_num.squeeze())\n",
        "\n",
        "        loss_mnist = F.nll_loss(preds, labels) # Calculate Loss\n",
        "        loss_sum = F.nll_loss(sum_preds, sum_labels) # Calculate Loss\n",
        "\n",
        "        loss = (loss_mnist + loss_sum)/2\n",
        "\n",
        "        total_loss_mnist += loss_mnist.item()\n",
        "        total_correct_mnist += get_num_correct(preds, labels)\n",
        "\n",
        "        total_loss_sum += loss_sum.item()\n",
        "        total_correct_sum += get_num_correct(sum_preds, sum_labels)\n",
        "\n",
        "  print(f'{test_type} set: Average loss: {loss:.3f}, MNIST Accuracy:{100. * total_correct_mnist/len(test_loader.dataset)}, Sum_Accuracy:{100. * total_correct_sum/len(test_loader.dataset)}')\n",
        "    \n",
        "  return loss"
      ]
    },
    {
      "cell_type": "code",
      "execution_count": null,
      "metadata": {
        "colab": {
          "base_uri": "https://localhost:8080/",
          "height": 1000
        },
        "id": "zI_LfCJSi0td",
        "outputId": "082c878c-c5db-42a9-c2a9-8bd1f63a6064"
      },
      "outputs": [
        {
          "output_type": "stream",
          "name": "stdout",
          "text": [
            "\n",
            "Epoch 1 : \n",
            "epoch: 1 , loss mnist : 4836.4594547423185, loss sum : 0.0\n",
            "Val set: Average loss: 0.138, MNIST Accuracy:95.62, Sum_Accuracy:1.2\n",
            "\n",
            "Epoch 2 : \n",
            "epoch: 2 , loss mnist : 829.8254803930613, loss sum : 0.0\n",
            "Val set: Average loss: 0.106, MNIST Accuracy:96.96, Sum_Accuracy:1.18\n",
            "\n",
            "Epoch 3 : \n",
            "epoch: 3 , loss mnist : 559.0599792947141, loss sum : 0.0\n",
            "Val set: Average loss: 0.023, MNIST Accuracy:98.12, Sum_Accuracy:1.3\n",
            "\n",
            "Epoch 4 : \n",
            "epoch: 4 , loss mnist : 426.3578369369934, loss sum : 0.0\n",
            "Val set: Average loss: 0.018, MNIST Accuracy:98.16, Sum_Accuracy:1.14\n",
            "\n",
            "Epoch 5 : \n",
            "epoch: 5 , loss mnist : 343.4942731789979, loss sum : 0.0\n",
            "Val set: Average loss: 0.014, MNIST Accuracy:98.58, Sum_Accuracy:1.0\n",
            "\n",
            "Epoch 6 : \n",
            "epoch: 6 , loss mnist : 281.4830155648451, loss sum : 0.0\n",
            "Val set: Average loss: 0.001, MNIST Accuracy:98.84, Sum_Accuracy:1.12\n",
            "\n",
            "Epoch 7 : \n",
            "epoch: 7 , loss mnist : 240.01546333435635, loss sum : 0.0\n",
            "Val set: Average loss: 0.001, MNIST Accuracy:98.8, Sum_Accuracy:1.1\n",
            "\n",
            "Epoch 8 : \n",
            "epoch: 8 , loss mnist : 206.07607260052555, loss sum : 0.0\n",
            "Val set: Average loss: 0.001, MNIST Accuracy:98.82, Sum_Accuracy:1.0\n",
            "\n",
            "Epoch 9 : \n",
            "epoch: 9 , loss mnist : 176.6826218062921, loss sum : 0.0\n",
            "Val set: Average loss: 0.001, MNIST Accuracy:99.14, Sum_Accuracy:1.16\n",
            "\n",
            "Epoch 10 : \n",
            "epoch: 10 , loss mnist : 149.8762259758117, loss sum : 0.0\n",
            "Val set: Average loss: 0.000, MNIST Accuracy:99.1, Sum_Accuracy:1.06\n",
            "\n",
            "Epoch 11 : \n",
            "epoch: 11 , loss mnist : 129.74019905708167, loss sum : 0.0\n",
            "Val set: Average loss: 0.000, MNIST Accuracy:98.92, Sum_Accuracy:1.16\n",
            "\n",
            "Epoch 12 : \n",
            "epoch: 12 , loss mnist : 112.37398477480549, loss sum : 0.0\n",
            "Val set: Average loss: 0.000, MNIST Accuracy:98.96, Sum_Accuracy:0.96\n",
            "\n",
            "Epoch 13 : \n",
            "epoch: 13 , loss mnist : 97.15604779740968, loss sum : 0.0\n",
            "Val set: Average loss: 0.000, MNIST Accuracy:98.84, Sum_Accuracy:0.98\n",
            "\n",
            "Epoch 14 : \n"
          ]
        },
        {
          "output_type": "error",
          "ename": "KeyboardInterrupt",
          "evalue": "ignored",
          "traceback": [
            "\u001b[0;31m---------------------------------------------------------------------------\u001b[0m",
            "\u001b[0;31mKeyboardInterrupt\u001b[0m                         Traceback (most recent call last)",
            "\u001b[0;32m<ipython-input-7-07555f8b4015>\u001b[0m in \u001b[0;36m<module>\u001b[0;34m\u001b[0m\n\u001b[1;32m     15\u001b[0m     \u001b[0mprint\u001b[0m\u001b[0;34m(\u001b[0m\u001b[0;34m'\\nEpoch {} : '\u001b[0m\u001b[0;34m.\u001b[0m\u001b[0mformat\u001b[0m\u001b[0;34m(\u001b[0m\u001b[0mepoch\u001b[0m\u001b[0;34m)\u001b[0m\u001b[0;34m)\u001b[0m\u001b[0;34m\u001b[0m\u001b[0;34m\u001b[0m\u001b[0m\n\u001b[1;32m     16\u001b[0m     \u001b[0;31m# train the model\u001b[0m\u001b[0;34m\u001b[0m\u001b[0;34m\u001b[0m\u001b[0;34m\u001b[0m\u001b[0m\n\u001b[0;32m---> 17\u001b[0;31m     \u001b[0mtrain_loss\u001b[0m \u001b[0;34m=\u001b[0m \u001b[0mtrain\u001b[0m\u001b[0;34m(\u001b[0m\u001b[0mnetwork\u001b[0m\u001b[0;34m,\u001b[0m \u001b[0mtrain_loader\u001b[0m\u001b[0;34m,\u001b[0m \u001b[0moptimizer\u001b[0m\u001b[0;34m,\u001b[0m \u001b[0mepoch\u001b[0m\u001b[0;34m,\u001b[0m \u001b[0mdevice\u001b[0m\u001b[0;34m)\u001b[0m\u001b[0;34m\u001b[0m\u001b[0;34m\u001b[0m\u001b[0m\n\u001b[0m\u001b[1;32m     18\u001b[0m     \u001b[0mvalid_loss\u001b[0m \u001b[0;34m=\u001b[0m \u001b[0mtest\u001b[0m\u001b[0;34m(\u001b[0m\u001b[0mnetwork\u001b[0m\u001b[0;34m,\u001b[0m \u001b[0mval_loader\u001b[0m\u001b[0;34m,\u001b[0m \u001b[0mdevice\u001b[0m\u001b[0;34m)\u001b[0m\u001b[0;34m\u001b[0m\u001b[0;34m\u001b[0m\u001b[0m\n\u001b[1;32m     19\u001b[0m     \u001b[0;31m# test the model\u001b[0m\u001b[0;34m\u001b[0m\u001b[0;34m\u001b[0m\u001b[0;34m\u001b[0m\u001b[0m\n",
            "\u001b[0;32m<ipython-input-6-480c506612b5>\u001b[0m in \u001b[0;36mtrain\u001b[0;34m(network, train_loader, optimizer, num_epochs, device)\u001b[0m\n\u001b[1;32m     22\u001b[0m \u001b[0;34m\u001b[0m\u001b[0m\n\u001b[1;32m     23\u001b[0m       \u001b[0moptimizer\u001b[0m\u001b[0;34m.\u001b[0m\u001b[0mzero_grad\u001b[0m\u001b[0;34m(\u001b[0m\u001b[0;34m)\u001b[0m\u001b[0;34m\u001b[0m\u001b[0;34m\u001b[0m\u001b[0m\n\u001b[0;32m---> 24\u001b[0;31m       \u001b[0mloss\u001b[0m\u001b[0;34m.\u001b[0m\u001b[0mbackward\u001b[0m\u001b[0;34m(\u001b[0m\u001b[0;34m)\u001b[0m \u001b[0;31m# Calculate Gradients\u001b[0m\u001b[0;34m\u001b[0m\u001b[0;34m\u001b[0m\u001b[0m\n\u001b[0m\u001b[1;32m     25\u001b[0m       \u001b[0moptimizer\u001b[0m\u001b[0;34m.\u001b[0m\u001b[0mstep\u001b[0m\u001b[0;34m(\u001b[0m\u001b[0;34m)\u001b[0m \u001b[0;31m# Update Weights\u001b[0m\u001b[0;34m\u001b[0m\u001b[0;34m\u001b[0m\u001b[0m\n\u001b[1;32m     26\u001b[0m \u001b[0;34m\u001b[0m\u001b[0m\n",
            "\u001b[0;32m/usr/local/lib/python3.8/dist-packages/torch/_tensor.py\u001b[0m in \u001b[0;36mbackward\u001b[0;34m(self, gradient, retain_graph, create_graph, inputs)\u001b[0m\n\u001b[1;32m    485\u001b[0m                 \u001b[0minputs\u001b[0m\u001b[0;34m=\u001b[0m\u001b[0minputs\u001b[0m\u001b[0;34m,\u001b[0m\u001b[0;34m\u001b[0m\u001b[0;34m\u001b[0m\u001b[0m\n\u001b[1;32m    486\u001b[0m             )\n\u001b[0;32m--> 487\u001b[0;31m         torch.autograd.backward(\n\u001b[0m\u001b[1;32m    488\u001b[0m             \u001b[0mself\u001b[0m\u001b[0;34m,\u001b[0m \u001b[0mgradient\u001b[0m\u001b[0;34m,\u001b[0m \u001b[0mretain_graph\u001b[0m\u001b[0;34m,\u001b[0m \u001b[0mcreate_graph\u001b[0m\u001b[0;34m,\u001b[0m \u001b[0minputs\u001b[0m\u001b[0;34m=\u001b[0m\u001b[0minputs\u001b[0m\u001b[0;34m\u001b[0m\u001b[0;34m\u001b[0m\u001b[0m\n\u001b[1;32m    489\u001b[0m         )\n",
            "\u001b[0;32m/usr/local/lib/python3.8/dist-packages/torch/autograd/__init__.py\u001b[0m in \u001b[0;36mbackward\u001b[0;34m(tensors, grad_tensors, retain_graph, create_graph, grad_variables, inputs)\u001b[0m\n\u001b[1;32m    195\u001b[0m     \u001b[0;31m# some Python versions print out the first line of a multi-line function\u001b[0m\u001b[0;34m\u001b[0m\u001b[0;34m\u001b[0m\u001b[0;34m\u001b[0m\u001b[0m\n\u001b[1;32m    196\u001b[0m     \u001b[0;31m# calls in the traceback and some print out the last line\u001b[0m\u001b[0;34m\u001b[0m\u001b[0;34m\u001b[0m\u001b[0;34m\u001b[0m\u001b[0m\n\u001b[0;32m--> 197\u001b[0;31m     Variable._execution_engine.run_backward(  # Calls into the C++ engine to run the backward pass\n\u001b[0m\u001b[1;32m    198\u001b[0m         \u001b[0mtensors\u001b[0m\u001b[0;34m,\u001b[0m \u001b[0mgrad_tensors_\u001b[0m\u001b[0;34m,\u001b[0m \u001b[0mretain_graph\u001b[0m\u001b[0;34m,\u001b[0m \u001b[0mcreate_graph\u001b[0m\u001b[0;34m,\u001b[0m \u001b[0minputs\u001b[0m\u001b[0;34m,\u001b[0m\u001b[0;34m\u001b[0m\u001b[0;34m\u001b[0m\u001b[0m\n\u001b[1;32m    199\u001b[0m         allow_unreachable=True, accumulate_grad=True)  # Calls into the C++ engine to run the backward pass\n",
            "\u001b[0;31mKeyboardInterrupt\u001b[0m: "
          ]
        }
      ],
      "source": [
        "# move the model to the specified device\n",
        "network = network.to(device)\n",
        "\n",
        "# use Stochastic Gradient Descent as the optimizer\n",
        "optimizer = optim.SGD(network.parameters(), lr=0.001, momentum=0.7)\n",
        "\n",
        "# set the number of epochs to train for\n",
        "num_epoch = 25\n",
        "\n",
        "train_loss_values = []\n",
        "valid_loss_values = []\n",
        "\n",
        "# run it for epoch number of times\n",
        "for epoch in range(1, num_epoch+1):\n",
        "    print('\\nEpoch {} : '.format(epoch))\n",
        "    # train the model\n",
        "    train_loss = train(network, train_loader, optimizer, epoch, device)\n",
        "    valid_loss = test(network, val_loader, device)\n",
        "    # test the model\n",
        "    train_loss_values.append(train_loss)\n",
        "    valid_loss_values.append(valid_loss)"
      ]
    },
    {
      "cell_type": "code",
      "execution_count": null,
      "metadata": {
        "id": "1G7keKAPyrlb"
      },
      "outputs": [],
      "source": []
    }
  ],
  "metadata": {
    "colab": {
      "provenance": [],
      "authorship_tag": "ABX9TyMegB1mH29lppTN4HU8v/Tq",
      "include_colab_link": true
    },
    "gpuClass": "standard",
    "kernelspec": {
      "display_name": "Python 3",
      "name": "python3"
    },
    "language_info": {
      "name": "python"
    }
  },
  "nbformat": 4,
  "nbformat_minor": 0
}